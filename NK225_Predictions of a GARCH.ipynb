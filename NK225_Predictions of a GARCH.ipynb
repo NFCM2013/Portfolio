{
 "cells": [
  {
   "cell_type": "code",
   "execution_count": null,
   "id": "4ef3a555",
   "metadata": {},
   "outputs": [],
   "source": [
    "import yfinance as yf\n",
    "import pandas as pd\n",
    "import numpy as np\n",
    "import matplotlib.pyplot as plt\n",
    "from datetime import datetime, timedelta\n",
    "from pandas.plotting import register_matplotlib_converters\n",
    "import japanize_matplotlib \n",
    "from arch import arch_model\n",
    "\n",
    "# yfinanceを使用して日経225のデータを取得\n",
    "NK225_data = yf.download('^N225', start='任意の日付', end=datetime.now().strftime('%Y-%m-%d'))\n",
    "\n",
    "# 'Adj Close'列のデータを取得\n",
    "NK225_prices = NK225_data['Adj Close']\n",
    "\n",
    "# 欠損値を削除\n",
    "NK225_prices = NK225_prices.dropna()\n",
    "\n",
    "# データをCSVファイルに保存\n",
    "NK225_prices.to_csv('NK225_prices.csv')\n",
    "\n",
    "# CSVファイルからデータを読み込む\n",
    "NK225_prices = pd.read_csv('NK225_prices.csv', index_col='Date', parse_dates=True)\n",
    "\n",
    "\n",
    "# GARCHモデルの作成とトレーニング\n",
    "model = arch_model(NK225_prices, vol='Garch', p=1, q=1)  # 適切な次数を選択する必要\n",
    "result = model.fit()\n",
    "\n",
    "# 未来のボラティリティを予測\n",
    "forecast_steps = 30\n",
    "forecast = result.forecast(horizon=forecast_steps)\n",
    "\n",
    "# 未来の日付に対するボラティリティの予測\n",
    "forecast_values = forecast.variance.values[-1, :]\n",
    "\n",
    "# 日付のリストを作成\n",
    "future_dates = pd.date_range(start=NK225_prices.index[-1], periods=forecast_steps + 1, freq='B')[1:]\n",
    "\n",
    "# 未来のボラティリティを可視化\n",
    "plt.figure(figsize=(10, 6))\n",
    "plt.plot(NK225_prices.index, NK225_prices, label='実際の価格', color='blue')\n",
    "plt.plot(future_dates, forecast_values, label='未来のボラティリティ予測', color='red', linestyle='--')\n",
    "plt.fill_between(future_dates, 0, forecast_values, color='red', alpha=0.1)  # ボラティリティの範囲を塗りつぶす\n",
    "plt.title('未来のボラティリティ予測')\n",
    "plt.xlabel('日付')\n",
    "plt.ylabel('価格/ボラティリティ')\n",
    "plt.legend()\n",
    "plt.show()"
   ]
  }
 ],
 "metadata": {
  "kernelspec": {
   "display_name": "Python 3 (ipykernel)",
   "language": "python",
   "name": "python3"
  },
  "language_info": {
   "codemirror_mode": {
    "name": "ipython",
    "version": 3
   },
   "file_extension": ".py",
   "mimetype": "text/x-python",
   "name": "python",
   "nbconvert_exporter": "python",
   "pygments_lexer": "ipython3",
   "version": "3.9.13"
  }
 },
 "nbformat": 4,
 "nbformat_minor": 5
}
